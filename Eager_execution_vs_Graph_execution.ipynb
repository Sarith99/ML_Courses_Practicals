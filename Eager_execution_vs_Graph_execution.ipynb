{
  "nbformat": 4,
  "nbformat_minor": 0,
  "metadata": {
    "colab": {
      "name": "Eager_execution_vs_Graph_execution.ipynb",
      "provenance": [],
      "authorship_tag": "ABX9TyPEWkwmISJwNfCiVMT9PkKm",
      "include_colab_link": true
    },
    "kernelspec": {
      "name": "python3",
      "display_name": "Python 3"
    },
    "language_info": {
      "name": "python"
    },
    "accelerator": "GPU",
    "gpuClass": "standard"
  },
  "cells": [
    {
      "cell_type": "markdown",
      "metadata": {
        "id": "view-in-github",
        "colab_type": "text"
      },
      "source": [
        "<a href=\"https://colab.research.google.com/github/Sarith99/ML_Courses_Practicals/blob/main/Eager_execution_vs_Graph_execution.ipynb\" target=\"_parent\"><img src=\"https://colab.research.google.com/assets/colab-badge.svg\" alt=\"Open In Colab\"/></a>"
      ]
    },
    {
      "cell_type": "code",
      "execution_count": 9,
      "metadata": {
        "id": "me4TbkaREPsI"
      },
      "outputs": [],
      "source": [
        "import tensorflow as tf\n",
        "import timeit"
      ]
    },
    {
      "cell_type": "code",
      "source": [
        "def eager_funct(a):\n",
        "  result = a ** 2 \n",
        "  print(result)\n",
        "  return result\n",
        "\n",
        "x = tf.constant([1.0, 3.0, 4.0, 5.0])\n",
        "eager_funct(x)"
      ],
      "metadata": {
        "colab": {
          "base_uri": "https://localhost:8080/"
        },
        "id": "D8bQDNa_Enpu",
        "outputId": "b8ccfacd-47f5-4a18-fa96-5c7a7ba74e7d"
      },
      "execution_count": 13,
      "outputs": [
        {
          "output_type": "stream",
          "name": "stdout",
          "text": [
            "tf.Tensor([ 1.        9.       16.       24.999998], shape=(4,), dtype=float32)\n"
          ]
        },
        {
          "output_type": "execute_result",
          "data": {
            "text/plain": [
              "<tf.Tensor: shape=(4,), dtype=float32, numpy=array([ 1.      ,  9.      , 16.      , 24.999998], dtype=float32)>"
            ]
          },
          "metadata": {},
          "execution_count": 13
        }
      ]
    },
    {
      "cell_type": "code",
      "source": [
        "x = tf.constant([1.0, 2.0, 3.0, 4.0, 5.0])\n",
        "graph_function = tf.function(eager_funct)\n",
        "graph_function(x)"
      ],
      "metadata": {
        "colab": {
          "base_uri": "https://localhost:8080/"
        },
        "id": "QlVfAQHvGDY1",
        "outputId": "29445fbd-e7a9-41c6-d796-b89e3388f955"
      },
      "execution_count": 14,
      "outputs": [
        {
          "output_type": "stream",
          "name": "stdout",
          "text": [
            "Tensor(\"pow:0\", shape=(5,), dtype=float32)\n"
          ]
        },
        {
          "output_type": "execute_result",
          "data": {
            "text/plain": [
              "<tf.Tensor: shape=(5,), dtype=float32, numpy=array([ 1.,  4.,  9., 16., 25.], dtype=float32)>"
            ]
          },
          "metadata": {},
          "execution_count": 14
        }
      ]
    },
    {
      "cell_type": "code",
      "source": [
        "print(\"Eager Time: \", timeit.timeit(lambda: eager_funct(x), number=1))\n",
        "print(\"Graph Time: \", timeit.timeit(lambda: graph_function(x), number=1))"
      ],
      "metadata": {
        "colab": {
          "base_uri": "https://localhost:8080/"
        },
        "id": "iWETJzJRGv-d",
        "outputId": "807989e8-2afb-40da-fa15-8004d9f8c0e0"
      },
      "execution_count": 16,
      "outputs": [
        {
          "output_type": "stream",
          "name": "stdout",
          "text": [
            "tf.Tensor([ 1.        4.        9.       16.       24.999998], shape=(5,), dtype=float32)\n",
            "Eager Time:  0.001106123999988995\n",
            "Graph Time:  0.007750591999865719\n"
          ]
        }
      ]
    },
    {
      "cell_type": "markdown",
      "source": [
        "############################################################################################################################################################################################################################################################################################################################################################################################"
      ],
      "metadata": {
        "id": "BO1bYZnSHvCE"
      }
    },
    {
      "cell_type": "code",
      "source": [
        "from tensorflow.keras import Input, Model\n",
        "from tensorflow.keras.layers import Flatten, Dense"
      ],
      "metadata": {
        "id": "9xLlHn7iHtUF"
      },
      "execution_count": 17,
      "outputs": []
    },
    {
      "cell_type": "code",
      "source": [
        "# Model Building\n",
        "inputs = Input(shape = (28, 28))\n",
        "x = Flatten()(inputs)\n",
        "x = Dense(256, \"relu\")(x)\n",
        "x = Dense(256, \"relu\")(x)\n",
        "x = Dense(256, \"relu\")(x)\n",
        "outputs = Dense(10, \"softmax\")(x)"
      ],
      "metadata": {
        "id": "DEofD7M8IdLd"
      },
      "execution_count": 18,
      "outputs": []
    },
    {
      "cell_type": "code",
      "source": [
        "input_data = tf.random.uniform([100, 28, 28])"
      ],
      "metadata": {
        "id": "j-tMyz6jJCJT"
      },
      "execution_count": 19,
      "outputs": []
    },
    {
      "cell_type": "code",
      "source": [
        "# Eager Execution\n",
        "eager_model = Model(inputs = inputs, outputs = outputs)\n",
        "print(\"Eager Time: \", timeit.timeit(lambda: eager_model(input_data), number=10000))"
      ],
      "metadata": {
        "colab": {
          "base_uri": "https://localhost:8080/"
        },
        "id": "86LIVmHSJMtd",
        "outputId": "e7f7ee08-2029-4d32-d21c-de9d82f3682e"
      },
      "execution_count": 20,
      "outputs": [
        {
          "output_type": "stream",
          "name": "stdout",
          "text": [
            "Eager Time:  28.919566974999952\n"
          ]
        }
      ]
    },
    {
      "cell_type": "code",
      "source": [
        "# Graph Execution\n",
        "graph_model = tf.function(eager_model)\n",
        "print(\"Graph Time\", timeit.timeit(lambda: graph_model(input_data), number=10000))"
      ],
      "metadata": {
        "colab": {
          "base_uri": "https://localhost:8080/"
        },
        "id": "1NjEIxzfJsSk",
        "outputId": "a4442312-aeb6-4f82-8660-a60417307f01"
      },
      "execution_count": 22,
      "outputs": [
        {
          "output_type": "stream",
          "name": "stdout",
          "text": [
            "Graph Time 7.718085970999709\n"
          ]
        }
      ]
    }
  ]
}
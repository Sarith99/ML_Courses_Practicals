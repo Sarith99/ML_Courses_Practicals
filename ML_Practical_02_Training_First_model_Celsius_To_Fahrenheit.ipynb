{
  "nbformat": 4,
  "nbformat_minor": 0,
  "metadata": {
    "colab": {
      "name": "ML_Practical_02-Training_First_model-Celsius_To_Fahrenheit.ipynb",
      "provenance": [],
      "authorship_tag": "ABX9TyPovUJGKw4UFY92xPjFLgXA",
      "include_colab_link": true
    },
    "kernelspec": {
      "name": "python3",
      "display_name": "Python 3"
    },
    "language_info": {
      "name": "python"
    }
  },
  "cells": [
    {
      "cell_type": "markdown",
      "metadata": {
        "id": "view-in-github",
        "colab_type": "text"
      },
      "source": [
        "<a href=\"https://colab.research.google.com/github/Sarith99/ML_Courses_Practicals/blob/main/ML_Practical_02_Training_First_model_Celsius_To_Fahrenheit.ipynb\" target=\"_parent\"><img src=\"https://colab.research.google.com/assets/colab-badge.svg\" alt=\"Open In Colab\"/></a>"
      ]
    },
    {
      "cell_type": "markdown",
      "source": [
        "# **The Basics: Training My First Model**\n",
        "\n",
        "The problem we will solve is to convert From Celsius to Fahrenheit, where the approximate formula is:\n",
        "\n",
        "                f = c x 1.8 + 32\n",
        "\n",
        "We use sample Celsius values(0, 8, 15, 22, 38) and their corresponding Fahrenheit values(32, 46, 59, 72, 100). Then we will train a model that figures out the above formula through training process."
      ],
      "metadata": {
        "id": "oG3n27xozWxb"
      }
    },
    {
      "cell_type": "markdown",
      "source": [
        "## **Import Dependancies**\n",
        "\n",
        "First import Tensorflow, Here we calling it tf ease of use. we also tell it to display errors.\n",
        "\n",
        "Next, we import NumPy as np. Numpy helps us to represent our data as highly performant lists."
      ],
      "metadata": {
        "id": "nKgLZT0D06zZ"
      }
    },
    {
      "cell_type": "code",
      "source": [
        "import tensorflow as tf\n",
        "tf.compat.v1.logging.set_verbosity(tf.compat.v1.logging.ERROR)\n",
        "\n",
        "import numpy as np"
      ],
      "metadata": {
        "id": "_24Mg6g21fk0"
      },
      "execution_count": null,
      "outputs": []
    },
    {
      "cell_type": "markdown",
      "source": [
        "## **Set up Traning Data**\n",
        "\n",
        "***Supervised Machine Learning*** is all about figuring out an algorithm given a set of inputs and outputs. \n",
        "\n",
        "Here, we use Celsius data as inputs and Fahrenheit data as outputs."
      ],
      "metadata": {
        "id": "1_6w53984MSy"
      }
    },
    {
      "cell_type": "code",
      "source": [
        "celsius_q = np.array([-40, -10, 0, 8, 15, 22, 38], dtype=float)\n",
        "fahrenheit_a = np.array([-40, 14, 32, 46, 59, 72, 100], dtype=float)\n",
        "\n",
        "for i,c in enumerate(celsius_q):\n",
        "  print(\"{} degree Celsius = {} degrees Fahrenheit\".format(c, fahrenheit_a[i]))"
      ],
      "metadata": {
        "colab": {
          "base_uri": "https://localhost:8080/"
        },
        "id": "4vqFhe9548Rt",
        "outputId": "060c8a5a-74dc-47b2-e616-ac0b9fdd7757"
      },
      "execution_count": null,
      "outputs": [
        {
          "output_type": "stream",
          "name": "stdout",
          "text": [
            "-40.0 degree Celsius = -40.0 degrees Fahrenheit\n",
            "-10.0 degree Celsius = 14.0 degrees Fahrenheit\n",
            "0.0 degree Celsius = 32.0 degrees Fahrenheit\n",
            "8.0 degree Celsius = 46.0 degrees Fahrenheit\n",
            "15.0 degree Celsius = 59.0 degrees Fahrenheit\n",
            "22.0 degree Celsius = 72.0 degrees Fahrenheit\n",
            "38.0 degree Celsius = 100.0 degrees Fahrenheit\n"
          ]
        }
      ]
    },
    {
      "cell_type": "markdown",
      "source": [
        "### **Some Machine Learning Terminolgy**\n",
        "\n",
        " \n",
        "\n",
        "*   **Feature -** The Input(s)to our model. In this case,single value - the derees in the Celsius.\n",
        "*   **Labels -** The output our model predicts. In this case, a single value - the degrees in the Fahrenheit.\n",
        "*   **Example -** A pair of inputs/outputs used during training. In our case a pair of values from celsius_q and fahrenheit_a at a specific index, such as (22, 72).\n",
        "\n",
        "\n",
        "\n",
        "\n",
        "\n",
        "\n"
      ],
      "metadata": {
        "id": "lAhWVIgZ8J7P"
      }
    },
    {
      "cell_type": "markdown",
      "source": [
        "## **Create the Model**\n",
        "\n",
        "### **Build a layer**"
      ],
      "metadata": {
        "id": "r2PNUSpc-O-N"
      }
    },
    {
      "cell_type": "code",
      "source": [
        "l0 = tf.keras.layers.Dense(units=1, input_shape=[1])"
      ],
      "metadata": {
        "id": "OmfEK1lp-iOq"
      },
      "execution_count": null,
      "outputs": []
    },
    {
      "cell_type": "markdown",
      "source": [
        "### **Assemble Layers into the model**"
      ],
      "metadata": {
        "id": "OT9uLTfl_kM_"
      }
    },
    {
      "cell_type": "code",
      "source": [
        "model = tf.keras.Sequential([l0])"
      ],
      "metadata": {
        "id": "AKZIejA6AXQw"
      },
      "execution_count": null,
      "outputs": []
    },
    {
      "cell_type": "code",
      "source": [
        "model = tf.keras.Sequential([\n",
        "   tf.keras.layers.Dense(units=1, input_shape=[1])\n",
        "])"
      ],
      "metadata": {
        "id": "vaAj7yBBAmIF"
      },
      "execution_count": null,
      "outputs": []
    },
    {
      "cell_type": "markdown",
      "source": [
        "### **Compile the model, with loss and optimizer functions**\n",
        "\n",
        "* **Loss Function** - A way of measuring how far off predictions are from the desired outcome. (The measured difference is called the \"loss\".)\n",
        "* **Optimizer Function** - A way of adjusting internal values in order to reduce the loss."
      ],
      "metadata": {
        "id": "sjaRxDW5U5KN"
      }
    },
    {
      "cell_type": "code",
      "source": [
        "model.compile(loss='mean_squared_error',\n",
        "              optimizer=tf.keras.optimizers.Adam(0.1))"
      ],
      "metadata": {
        "id": "e6YhKxAdVuMT"
      },
      "execution_count": null,
      "outputs": []
    },
    {
      "cell_type": "markdown",
      "source": [
        "### **Train the Model**"
      ],
      "metadata": {
        "id": "4PlJZHqsg26v"
      }
    },
    {
      "cell_type": "code",
      "source": [
        "history = model.fit(celsius_q, fahrenheit_a, epochs = 500, verbose = False)\n",
        "print(\"Finished training the model\")"
      ],
      "metadata": {
        "colab": {
          "base_uri": "https://localhost:8080/"
        },
        "id": "WD0gM9vGg8p6",
        "outputId": "a09a5592-73c2-4b09-ec8f-d12c854f3592"
      },
      "execution_count": null,
      "outputs": [
        {
          "output_type": "stream",
          "name": "stdout",
          "text": [
            "Finished training the model\n"
          ]
        }
      ]
    },
    {
      "cell_type": "markdown",
      "source": [
        "### **Display training statistics**\n",
        "\n",
        "We'll use Matplotlib to visualize this (you could use another tool). As you can see, our model improves very quickly at first, and then has a steady, slow improvement until it is near \"perfect\" towards the end. "
      ],
      "metadata": {
        "id": "mHBFfCAGhpDg"
      }
    },
    {
      "cell_type": "code",
      "source": [
        "import matplotlib.pyplot as plt\n",
        "plt.xlabel(\"Epoch Number\")\n",
        "plt.ylabel(\"Loss Magnitiude\")\n",
        "plt.plot(history.history[\"loss\"])"
      ],
      "metadata": {
        "colab": {
          "base_uri": "https://localhost:8080/",
          "height": 297
        },
        "id": "8g5q14iDiUgf",
        "outputId": "cde05556-6429-4e00-939e-8fd166ea192e"
      },
      "execution_count": null,
      "outputs": [
        {
          "output_type": "execute_result",
          "data": {
            "text/plain": [
              "[<matplotlib.lines.Line2D at 0x7f4285211490>]"
            ]
          },
          "metadata": {},
          "execution_count": 45
        },
        {
          "output_type": "display_data",
          "data": {
            "text/plain": [
              "<Figure size 432x288 with 1 Axes>"
            ],
            "image/png": "[encoded data removed]"
          },
          "metadata": {
            "needs_background": "light"
          }
        }
      ]
    },
    {
      "cell_type": "markdown",
      "source": [
        "### **Use the model to predict values**\n",
        "\n",
        "Input 100 as Celsius value and get the Fahrenheit value as the output.\n",
        "\n",
        "100 x 1.8 + 32 = 212 \n",
        "\n",
        "212 must be the output.\n",
        "\n"
      ],
      "metadata": {
        "id": "m5QfO_5YjpL-"
      }
    },
    {
      "cell_type": "code",
      "source": [
        "print(model.predict([100.0])) # The answer is much closer to the original answer(212)"
      ],
      "metadata": {
        "colab": {
          "base_uri": "https://localhost:8080/"
        },
        "id": "F3hzhnbN5r67",
        "outputId": "05796eba-3741-4cde-eacb-bc08e18b7887"
      },
      "execution_count": null,
      "outputs": [
        {
          "output_type": "stream",
          "name": "stdout",
          "text": [
            "[[211.31943]]\n"
          ]
        }
      ]
    },
    {
      "cell_type": "markdown",
      "source": [
        "### **Looking at the Layer Weight**😊\n",
        "\n",
        "The Note is in the pictures folder second lesson **6th screenshot**."
      ],
      "metadata": {
        "id": "nvg2w5oF8sdv"
      }
    },
    {
      "cell_type": "code",
      "source": [
        "print(\"These are the layer variables: {}\".format(l0.get_weights()))"
      ],
      "metadata": {
        "colab": {
          "base_uri": "https://localhost:8080/"
        },
        "id": "LPhPWKCl9EKM",
        "outputId": "5f567116-5a55-4770-ad31-b37bb940c594"
      },
      "execution_count": null,
      "outputs": [
        {
          "output_type": "stream",
          "name": "stdout",
          "text": [
            "These are the layer variables: [array([[-0.8612141]], dtype=float32), array([0.], dtype=float32)]\n"
          ]
        }
      ]
    },
    {
      "cell_type": "markdown",
      "source": [
        "### **A Little Experiment**\n",
        "\n",
        "Just for fun, we created Dense layer with different unit.(Therefore model has more variables)"
      ],
      "metadata": {
        "id": "4Wycs6qd-Syf"
      }
    },
    {
      "cell_type": "code",
      "source": [
        "l0 =  tf.keras.layers.Dense(units = 4, input_shape = [1])\n",
        "l1 = tf.keras.layers.Dense(units = 4)\n",
        "l2 = tf.keras.layers.Dense(units = 1)\n",
        "model = tf.keras.Sequential([l0, l1, l2])\n",
        "model.compile(loss = 'mean_squared_error', optimizer = tf.keras.optimizers.Adam(0,1))\n",
        "model.fit(celsius_q, fahrenheit_a, epochs = 500, verbose = False)\n",
        "print(\"Finished Training the Model\")\n",
        "print(model.predict([100.0]))\n",
        "print(\"Model Predict that 100 degrees Celsius is: {} degrees Fahrenheit\".format(model.predict([100.0])))\n",
        "print(\"These are the l0 variables: {}\".format(l0.get_weights()))\n",
        "print(\"These are the l1 variables: {}\".format(l1.get_weights()))\n",
        "print(\"These are the l2 variables: {}\".format(l2.get_weights()))"
      ],
      "metadata": {
        "colab": {
          "base_uri": "https://localhost:8080/"
        },
        "id": "-7LM3YHb-pSp",
        "outputId": "1dcba516-40a9-498c-8a74-ef828e3c3890"
      },
      "execution_count": null,
      "outputs": [
        {
          "output_type": "stream",
          "name": "stdout",
          "text": [
            "Finished Training the Model\n",
            "[[nan]]\n",
            "Model Predict that 100 degrees Celsius is: [[nan]] degrees Fahrenheit\n",
            "These are the l0 variables: [array([[nan, nan, nan, nan]], dtype=float32), array([nan, nan, nan, nan], dtype=float32)]\n",
            "These are the l1 variables: [array([[nan, nan, nan, nan],\n",
            "       [nan, nan, nan, nan],\n",
            "       [nan, nan, nan, nan],\n",
            "       [nan, nan, nan, nan]], dtype=float32), array([nan, nan, nan, nan], dtype=float32)]\n",
            "These are the l2 variables: [array([[nan],\n",
            "       [nan],\n",
            "       [nan],\n",
            "       [nan]], dtype=float32), array([nan], dtype=float32)]\n"
          ]
        }
      ]
    }
  ]
}
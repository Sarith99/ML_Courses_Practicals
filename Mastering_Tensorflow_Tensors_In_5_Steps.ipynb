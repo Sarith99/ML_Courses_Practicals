{
  "nbformat": 4,
  "nbformat_minor": 0,
  "metadata": {
    "colab": {
      "name": "Mastering_Tensorflow_Tensors_In_5_Steps.ipynb",
      "provenance": [],
      "authorship_tag": "ABX9TyMNLw6Ied2KErrlrdgM9TNI",
      "include_colab_link": true
    },
    "kernelspec": {
      "name": "python3",
      "display_name": "Python 3"
    },
    "language_info": {
      "name": "python"
    },
    "accelerator": "GPU",
    "gpuClass": "standard"
  },
  "cells": [
    {
      "cell_type": "markdown",
      "metadata": {
        "id": "view-in-github",
        "colab_type": "text"
      },
      "source": [
        "<a href=\"https://colab.research.google.com/github/Sarith99/ML_Courses_Practicals/blob/main/Mastering_Tensorflow_Tensors_In_5_Steps.ipynb\" target=\"_parent\"><img src=\"https://colab.research.google.com/assets/colab-badge.svg\" alt=\"Open In Colab\"/></a>"
      ]
    },
    {
      "cell_type": "code",
      "execution_count": 1,
      "metadata": {
        "id": "G5xvZneTXIGF"
      },
      "outputs": [],
      "source": [
        "import tensorflow as tf\n",
        "import numpy as np"
      ]
    },
    {
      "cell_type": "code",
      "source": [
        "# You can create Tensor objects with the `tf.constant` function:\n",
        "x = tf.constant([[1, 2, 3, 4 ,5]])\n",
        "# You can create Tensor objects only consisting of 1s with the `tf.ones` function:\n",
        "y = tf.ones((3,5))\n",
        "# You can create Tensor objects only consisting of 0s with the `tf.zeros` function:\n",
        "z = tf.zeros((2,5))\n",
        "# You can use the `tf.range()` function to create Tensor objects:\n",
        "q = tf.range(start=1, limit=6, delta=2)\n",
        "\n",
        "print(x)\n",
        "print(y)\n",
        "print(z)\n",
        "print(q)"
      ],
      "metadata": {
        "colab": {
          "base_uri": "https://localhost:8080/"
        },
        "id": "mhSVuMvViv_y",
        "outputId": "515d680e-d9be-4a74-ee48-4d01d6a70495"
      },
      "execution_count": 2,
      "outputs": [
        {
          "output_type": "stream",
          "name": "stdout",
          "text": [
            "tf.Tensor([[1 2 3 4 5]], shape=(1, 5), dtype=int32)\n",
            "tf.Tensor(\n",
            "[[1. 1. 1. 1. 1.]\n",
            " [1. 1. 1. 1. 1.]\n",
            " [1. 1. 1. 1. 1.]], shape=(3, 5), dtype=float32)\n",
            "tf.Tensor(\n",
            "[[0. 0. 0. 0. 0.]\n",
            " [0. 0. 0. 0. 0.]], shape=(2, 5), dtype=float32)\n",
            "tf.Tensor([1 3 5], shape=(3,), dtype=int32)\n"
          ]
        }
      ]
    },
    {
      "cell_type": "code",
      "source": [
        "a = tf.constant([[1, 2, \"Sarith\", 3]])\n",
        "print(a)"
      ],
      "metadata": {
        "colab": {
          "base_uri": "https://localhost:8080/",
          "height": 354
        },
        "id": "xsMkDuYFz0Yq",
        "outputId": "e2890d95-6d9e-407c-8a25-de2cf5823c31"
      },
      "execution_count": 35,
      "outputs": [
        {
          "output_type": "error",
          "ename": "ValueError",
          "evalue": "ignored",
          "traceback": [
            "\u001b[0;31m---------------------------------------------------------------------------\u001b[0m",
            "\u001b[0;31mValueError\u001b[0m                                Traceback (most recent call last)",
            "\u001b[0;32m<ipython-input-35-4eeb5da8e561>\u001b[0m in \u001b[0;36m<module>\u001b[0;34m()\u001b[0m\n\u001b[0;32m----> 1\u001b[0;31m \u001b[0ma\u001b[0m \u001b[0;34m=\u001b[0m \u001b[0mtf\u001b[0m\u001b[0;34m.\u001b[0m\u001b[0mconstant\u001b[0m\u001b[0;34m(\u001b[0m\u001b[0;34m[\u001b[0m\u001b[0;34m[\u001b[0m\u001b[0;36m1\u001b[0m\u001b[0;34m,\u001b[0m \u001b[0;36m2\u001b[0m\u001b[0;34m,\u001b[0m \u001b[0;34m\"Sarith\"\u001b[0m\u001b[0;34m,\u001b[0m \u001b[0;36m3\u001b[0m\u001b[0;34m]\u001b[0m\u001b[0;34m]\u001b[0m\u001b[0;34m)\u001b[0m\u001b[0;34m\u001b[0m\u001b[0;34m\u001b[0m\u001b[0m\n\u001b[0m\u001b[1;32m      2\u001b[0m \u001b[0mprint\u001b[0m\u001b[0;34m(\u001b[0m\u001b[0ma\u001b[0m\u001b[0;34m)\u001b[0m\u001b[0;34m\u001b[0m\u001b[0;34m\u001b[0m\u001b[0m\n",
            "\u001b[0;32m/usr/local/lib/python3.7/dist-packages/tensorflow/python/framework/constant_op.py\u001b[0m in \u001b[0;36mconstant\u001b[0;34m(value, dtype, shape, name)\u001b[0m\n\u001b[1;32m    266\u001b[0m   \"\"\"\n\u001b[1;32m    267\u001b[0m   return _constant_impl(value, dtype, shape, name, verify_shape=False,\n\u001b[0;32m--> 268\u001b[0;31m                         allow_broadcast=True)\n\u001b[0m\u001b[1;32m    269\u001b[0m \u001b[0;34m\u001b[0m\u001b[0m\n\u001b[1;32m    270\u001b[0m \u001b[0;34m\u001b[0m\u001b[0m\n",
            "\u001b[0;32m/usr/local/lib/python3.7/dist-packages/tensorflow/python/framework/constant_op.py\u001b[0m in \u001b[0;36m_constant_impl\u001b[0;34m(value, dtype, shape, name, verify_shape, allow_broadcast)\u001b[0m\n\u001b[1;32m    277\u001b[0m       \u001b[0;32mwith\u001b[0m \u001b[0mtrace\u001b[0m\u001b[0;34m.\u001b[0m\u001b[0mTrace\u001b[0m\u001b[0;34m(\u001b[0m\u001b[0;34m\"tf.constant\"\u001b[0m\u001b[0;34m)\u001b[0m\u001b[0;34m:\u001b[0m\u001b[0;34m\u001b[0m\u001b[0;34m\u001b[0m\u001b[0m\n\u001b[1;32m    278\u001b[0m         \u001b[0;32mreturn\u001b[0m \u001b[0m_constant_eager_impl\u001b[0m\u001b[0;34m(\u001b[0m\u001b[0mctx\u001b[0m\u001b[0;34m,\u001b[0m \u001b[0mvalue\u001b[0m\u001b[0;34m,\u001b[0m \u001b[0mdtype\u001b[0m\u001b[0;34m,\u001b[0m \u001b[0mshape\u001b[0m\u001b[0;34m,\u001b[0m \u001b[0mverify_shape\u001b[0m\u001b[0;34m)\u001b[0m\u001b[0;34m\u001b[0m\u001b[0;34m\u001b[0m\u001b[0m\n\u001b[0;32m--> 279\u001b[0;31m     \u001b[0;32mreturn\u001b[0m \u001b[0m_constant_eager_impl\u001b[0m\u001b[0;34m(\u001b[0m\u001b[0mctx\u001b[0m\u001b[0;34m,\u001b[0m \u001b[0mvalue\u001b[0m\u001b[0;34m,\u001b[0m \u001b[0mdtype\u001b[0m\u001b[0;34m,\u001b[0m \u001b[0mshape\u001b[0m\u001b[0;34m,\u001b[0m \u001b[0mverify_shape\u001b[0m\u001b[0;34m)\u001b[0m\u001b[0;34m\u001b[0m\u001b[0;34m\u001b[0m\u001b[0m\n\u001b[0m\u001b[1;32m    280\u001b[0m \u001b[0;34m\u001b[0m\u001b[0m\n\u001b[1;32m    281\u001b[0m   \u001b[0mg\u001b[0m \u001b[0;34m=\u001b[0m \u001b[0mops\u001b[0m\u001b[0;34m.\u001b[0m\u001b[0mget_default_graph\u001b[0m\u001b[0;34m(\u001b[0m\u001b[0;34m)\u001b[0m\u001b[0;34m\u001b[0m\u001b[0;34m\u001b[0m\u001b[0m\n",
            "\u001b[0;32m/usr/local/lib/python3.7/dist-packages/tensorflow/python/framework/constant_op.py\u001b[0m in \u001b[0;36m_constant_eager_impl\u001b[0;34m(ctx, value, dtype, shape, verify_shape)\u001b[0m\n\u001b[1;32m    302\u001b[0m \u001b[0;32mdef\u001b[0m \u001b[0m_constant_eager_impl\u001b[0m\u001b[0;34m(\u001b[0m\u001b[0mctx\u001b[0m\u001b[0;34m,\u001b[0m \u001b[0mvalue\u001b[0m\u001b[0;34m,\u001b[0m \u001b[0mdtype\u001b[0m\u001b[0;34m,\u001b[0m \u001b[0mshape\u001b[0m\u001b[0;34m,\u001b[0m \u001b[0mverify_shape\u001b[0m\u001b[0;34m)\u001b[0m\u001b[0;34m:\u001b[0m\u001b[0;34m\u001b[0m\u001b[0;34m\u001b[0m\u001b[0m\n\u001b[1;32m    303\u001b[0m   \u001b[0;34m\"\"\"Creates a constant on the current device.\"\"\"\u001b[0m\u001b[0;34m\u001b[0m\u001b[0;34m\u001b[0m\u001b[0m\n\u001b[0;32m--> 304\u001b[0;31m   \u001b[0mt\u001b[0m \u001b[0;34m=\u001b[0m \u001b[0mconvert_to_eager_tensor\u001b[0m\u001b[0;34m(\u001b[0m\u001b[0mvalue\u001b[0m\u001b[0;34m,\u001b[0m \u001b[0mctx\u001b[0m\u001b[0;34m,\u001b[0m \u001b[0mdtype\u001b[0m\u001b[0;34m)\u001b[0m\u001b[0;34m\u001b[0m\u001b[0;34m\u001b[0m\u001b[0m\n\u001b[0m\u001b[1;32m    305\u001b[0m   \u001b[0;32mif\u001b[0m \u001b[0mshape\u001b[0m \u001b[0;32mis\u001b[0m \u001b[0;32mNone\u001b[0m\u001b[0;34m:\u001b[0m\u001b[0;34m\u001b[0m\u001b[0;34m\u001b[0m\u001b[0m\n\u001b[1;32m    306\u001b[0m     \u001b[0;32mreturn\u001b[0m \u001b[0mt\u001b[0m\u001b[0;34m\u001b[0m\u001b[0;34m\u001b[0m\u001b[0m\n",
            "\u001b[0;32m/usr/local/lib/python3.7/dist-packages/tensorflow/python/framework/constant_op.py\u001b[0m in \u001b[0;36mconvert_to_eager_tensor\u001b[0;34m(value, ctx, dtype)\u001b[0m\n\u001b[1;32m    100\u001b[0m       \u001b[0mdtype\u001b[0m \u001b[0;34m=\u001b[0m \u001b[0mdtypes\u001b[0m\u001b[0;34m.\u001b[0m\u001b[0mas_dtype\u001b[0m\u001b[0;34m(\u001b[0m\u001b[0mdtype\u001b[0m\u001b[0;34m)\u001b[0m\u001b[0;34m.\u001b[0m\u001b[0mas_datatype_enum\u001b[0m\u001b[0;34m\u001b[0m\u001b[0;34m\u001b[0m\u001b[0m\n\u001b[1;32m    101\u001b[0m   \u001b[0mctx\u001b[0m\u001b[0;34m.\u001b[0m\u001b[0mensure_initialized\u001b[0m\u001b[0;34m(\u001b[0m\u001b[0;34m)\u001b[0m\u001b[0;34m\u001b[0m\u001b[0;34m\u001b[0m\u001b[0m\n\u001b[0;32m--> 102\u001b[0;31m   \u001b[0;32mreturn\u001b[0m \u001b[0mops\u001b[0m\u001b[0;34m.\u001b[0m\u001b[0mEagerTensor\u001b[0m\u001b[0;34m(\u001b[0m\u001b[0mvalue\u001b[0m\u001b[0;34m,\u001b[0m \u001b[0mctx\u001b[0m\u001b[0;34m.\u001b[0m\u001b[0mdevice_name\u001b[0m\u001b[0;34m,\u001b[0m \u001b[0mdtype\u001b[0m\u001b[0;34m)\u001b[0m\u001b[0;34m\u001b[0m\u001b[0;34m\u001b[0m\u001b[0m\n\u001b[0m\u001b[1;32m    103\u001b[0m \u001b[0;34m\u001b[0m\u001b[0m\n\u001b[1;32m    104\u001b[0m \u001b[0;34m\u001b[0m\u001b[0m\n",
            "\u001b[0;31mValueError\u001b[0m: Can't convert Python sequence with mixed types to Tensor."
          ]
        }
      ]
    },
    {
      "cell_type": "code",
      "source": [
        "Three_lvl_nested_list = [[[1,2,3],\n",
        "                          [4,5,6]],\n",
        "                         [[0,9,8],\n",
        "                          [7,6,5]]]\n",
        "\n",
        "rank_three_tensor = tf.constant(Three_lvl_nested_list)\n",
        "print(rank_three_tensor)"
      ],
      "metadata": {
        "colab": {
          "base_uri": "https://localhost:8080/"
        },
        "id": "8JpshZZe56qD",
        "outputId": "90a315f8-8a03-49b1-f60c-7a5158227b9f"
      },
      "execution_count": 4,
      "outputs": [
        {
          "output_type": "stream",
          "name": "stdout",
          "text": [
            "tf.Tensor(\n",
            "[[[1 2 3]\n",
            "  [4 5 6]]\n",
            "\n",
            " [[0 9 8]\n",
            "  [7 6 5]]], shape=(2, 2, 3), dtype=int32)\n"
          ]
        }
      ]
    },
    {
      "cell_type": "markdown",
      "source": [
        "**Rank System and Dimension**"
      ],
      "metadata": {
        "id": "ZR4DUgzH-kV5"
      }
    },
    {
      "cell_type": "code",
      "source": [
        "# We can view the number of diamensions that our `rank_3_tensor` object currently has with the `.ndim` attribute.\n",
        "tensor_Ndim = rank_three_tensor.ndim\n",
        "print(\"The number of diamension in the tensor object: \", tensor_Ndim)"
      ],
      "metadata": {
        "colab": {
          "base_uri": "https://localhost:8080/"
        },
        "id": "eBUr0UdE6yoi",
        "outputId": "3be9c117-ce2f-4c8b-afcc-0e18a4c7587b"
      },
      "execution_count": 5,
      "outputs": [
        {
          "output_type": "stream",
          "name": "stdout",
          "text": [
            "The number of diamension in the tensor object:  3\n"
          ]
        }
      ]
    },
    {
      "cell_type": "markdown",
      "source": [
        "**Shape**"
      ],
      "metadata": {
        "id": "4S3pHfsQ-qgJ"
      }
    },
    {
      "cell_type": "code",
      "source": [
        "tensor_shape = rank_three_tensor.shape\n",
        "print(\"The shape of our Tensor object is: \", tensor_shape)"
      ],
      "metadata": {
        "colab": {
          "base_uri": "https://localhost:8080/"
        },
        "id": "w_tOOLqX-oFR",
        "outputId": "76507696-2a75-46dc-9b5d-b9ea9d737903"
      },
      "execution_count": 6,
      "outputs": [
        {
          "output_type": "stream",
          "name": "stdout",
          "text": [
            "The shape of our Tensor object is:  (2, 2, 3)\n"
          ]
        }
      ]
    },
    {
      "cell_type": "markdown",
      "source": [
        "**Size**"
      ],
      "metadata": {
        "id": "REZdv_mDFPxr"
      }
    },
    {
      "cell_type": "code",
      "source": [
        "tensor_size = tf.size(rank_three_tensor).numpy()\n",
        "print(\"The size of our tensor object is: \", tensor_size)"
      ],
      "metadata": {
        "colab": {
          "base_uri": "https://localhost:8080/"
        },
        "id": "04DXCKxTFPDT",
        "outputId": "d32b2401-10e1-40ca-d0b1-3e64c4c27710"
      },
      "execution_count": 7,
      "outputs": [
        {
          "output_type": "stream",
          "name": "stdout",
          "text": [
            "The size of our tensor object is:  12\n"
          ]
        }
      ]
    },
    {
      "cell_type": "markdown",
      "source": [
        "**Dtypes**"
      ],
      "metadata": {
        "id": "rETMI0jpFzJV"
      }
    },
    {
      "cell_type": "code",
      "source": [
        "tensor_dtype = rank_three_tensor.dtype\n",
        "print(\"The data type of this Tensor object is: \", tensor_dtype)"
      ],
      "metadata": {
        "colab": {
          "base_uri": "https://localhost:8080/"
        },
        "id": "PLda-9OlF1m6",
        "outputId": "7027edf3-629f-4621-f04c-70dc4e94865d"
      },
      "execution_count": 8,
      "outputs": [
        {
          "output_type": "stream",
          "name": "stdout",
          "text": [
            "The data type of this Tensor object is:  <dtype: 'int32'>\n"
          ]
        }
      ]
    },
    {
      "cell_type": "markdown",
      "source": [
        "### **Operations with Tensors**"
      ],
      "metadata": {
        "id": "oSl4JkrlGiO5"
      }
    },
    {
      "cell_type": "markdown",
      "source": [
        "**Indexing**"
      ],
      "metadata": {
        "id": "HYUOSv_cGm9K"
      }
    },
    {
      "cell_type": "code",
      "source": [
        "single_level_nested_list = [0, 1, 2, 3, 4, 5, 6, 7]\n",
        "rank_1_tensor = tf.constant(single_level_nested_list)\n",
        "print(rank_1_tensor)"
      ],
      "metadata": {
        "colab": {
          "base_uri": "https://localhost:8080/"
        },
        "id": "4S1g8_WkGgbL",
        "outputId": "315ed354-f857-4886-ed6f-39c323bf22f2"
      },
      "execution_count": 9,
      "outputs": [
        {
          "output_type": "stream",
          "name": "stdout",
          "text": [
            "tf.Tensor([0 1 2 3 4 5 6 7], shape=(8,), dtype=int32)\n"
          ]
        }
      ]
    },
    {
      "cell_type": "code",
      "source": [
        "print(\"First Element = \", \n",
        "      rank_1_tensor[0].numpy())"
      ],
      "metadata": {
        "colab": {
          "base_uri": "https://localhost:8080/"
        },
        "id": "oD9im-c5HOFz",
        "outputId": "868dc783-e71d-441f-eb41-cab1b47b23ed"
      },
      "execution_count": 10,
      "outputs": [
        {
          "output_type": "stream",
          "name": "stdout",
          "text": [
            "First Element =  0\n"
          ]
        }
      ]
    },
    {
      "cell_type": "code",
      "source": [
        "print(\"Last Element = \",\n",
        "      rank_1_tensor[-1].numpy())"
      ],
      "metadata": {
        "colab": {
          "base_uri": "https://localhost:8080/"
        },
        "id": "3CnAV-z_Hhq4",
        "outputId": "fcca043e-138e-41d9-ca54-639bff2fbce3"
      },
      "execution_count": 11,
      "outputs": [
        {
          "output_type": "stream",
          "name": "stdout",
          "text": [
            "Last Element =  7\n"
          ]
        }
      ]
    },
    {
      "cell_type": "code",
      "source": [
        "print(\"Element Before Last Element = \",\n",
        "      rank_1_tensor[-2].numpy())"
      ],
      "metadata": {
        "colab": {
          "base_uri": "https://localhost:8080/"
        },
        "id": "XUcfQviDHzuf",
        "outputId": "2ba15cae-6d99-45a6-8246-1870ba5d7230"
      },
      "execution_count": 12,
      "outputs": [
        {
          "output_type": "stream",
          "name": "stdout",
          "text": [
            "Element Before Last Element =  6\n"
          ]
        }
      ]
    },
    {
      "cell_type": "code",
      "source": [
        "print(\"Element between first el & last el = \",\n",
        "      rank_1_tensor[1:-1].numpy())"
      ],
      "metadata": {
        "colab": {
          "base_uri": "https://localhost:8080/"
        },
        "id": "IiHEcIswIUcy",
        "outputId": "6d31ce5d-fb27-47b7-d04c-76927309c162"
      },
      "execution_count": 13,
      "outputs": [
        {
          "output_type": "stream",
          "name": "stdout",
          "text": [
            "Element between first el & last el =  [1 2 3 4 5 6]\n"
          ]
        }
      ]
    },
    {
      "cell_type": "code",
      "source": [
        "level_2_nested_list = [[1,2,3,4,5],\n",
        "                       [6,7,8,9,0]]\n",
        "rank_2_tensor = tf.constant(level_2_nested_list)\n",
        "print(rank_2_tensor)"
      ],
      "metadata": {
        "colab": {
          "base_uri": "https://localhost:8080/"
        },
        "id": "4tBRY7QOItUQ",
        "outputId": "bc76d760-029d-4e6d-c994-b40593f74bf0"
      },
      "execution_count": 14,
      "outputs": [
        {
          "output_type": "stream",
          "name": "stdout",
          "text": [
            "tf.Tensor(\n",
            "[[1 2 3 4 5]\n",
            " [6 7 8 9 0]], shape=(2, 5), dtype=int32)\n"
          ]
        }
      ]
    },
    {
      "cell_type": "code",
      "source": [
        "print(\"1st Level: \",\n",
        "      rank_2_tensor[0].numpy())"
      ],
      "metadata": {
        "colab": {
          "base_uri": "https://localhost:8080/"
        },
        "id": "inuEz5CWJYpJ",
        "outputId": "de4821c8-0b95-4939-f3b9-efd4ed8c8c5e"
      },
      "execution_count": 15,
      "outputs": [
        {
          "output_type": "stream",
          "name": "stdout",
          "text": [
            "1st Level:  [1 2 3 4 5]\n"
          ]
        }
      ]
    },
    {
      "cell_type": "code",
      "source": [
        "print(\"1st Element in 1st level: \",\n",
        "      rank_2_tensor[0, 0].numpy())"
      ],
      "metadata": {
        "colab": {
          "base_uri": "https://localhost:8080/"
        },
        "id": "DvirdpKFJpj2",
        "outputId": "14b37575-c9af-4766-990a-d28ed489a5f1"
      },
      "execution_count": 16,
      "outputs": [
        {
          "output_type": "stream",
          "name": "stdout",
          "text": [
            "1st Element in 1st level:  1\n"
          ]
        }
      ]
    },
    {
      "cell_type": "code",
      "source": [
        "print(\"4th Element in 2nd Level: \",\n",
        "      rank_2_tensor[1, 3].numpy())"
      ],
      "metadata": {
        "colab": {
          "base_uri": "https://localhost:8080/"
        },
        "id": "bINbKYcnKcHy",
        "outputId": "2ac369a0-e79b-4313-e090-516f6e03b296"
      },
      "execution_count": 17,
      "outputs": [
        {
          "output_type": "stream",
          "name": "stdout",
          "text": [
            "4th Element in 2nd Level:  9\n"
          ]
        }
      ]
    },
    {
      "cell_type": "markdown",
      "source": [
        "### **Basic Operations with Tensors**"
      ],
      "metadata": {
        "id": "2Or05KflLGSe"
      }
    },
    {
      "cell_type": "code",
      "source": [
        "a = tf.constant([[0, 1],\n",
        "                 [2, 4]])\n",
        "\n",
        "b = tf.constant([[2, 3],\n",
        "                 [4, 5]])\n",
        "\n",
        "x = tf.constant([[5, 3],\n",
        "                 [2, 1]], dtype= tf.float32)\n",
        "\n",
        "y = tf.constant([[2, 7],\n",
        "                 [9, 2]], dtype = tf.float32)"
      ],
      "metadata": {
        "id": "E3nqNIxJLLAv"
      },
      "execution_count": 18,
      "outputs": []
    },
    {
      "cell_type": "code",
      "source": [
        "add_tens = tf.add(a, b)\n",
        "print(add_tens)"
      ],
      "metadata": {
        "colab": {
          "base_uri": "https://localhost:8080/"
        },
        "id": "hptNBSilLqEH",
        "outputId": "555c840d-4d7d-41a3-ec83-a28bee8ac350"
      },
      "execution_count": 19,
      "outputs": [
        {
          "output_type": "stream",
          "name": "stdout",
          "text": [
            "tf.Tensor(\n",
            "[[2 4]\n",
            " [6 9]], shape=(2, 2), dtype=int32)\n"
          ]
        }
      ]
    },
    {
      "cell_type": "code",
      "source": [
        "# add_tensors = (x + y)\n",
        "# print(add_tensors)\n",
        "print(tf.add(x, y))"
      ],
      "metadata": {
        "colab": {
          "base_uri": "https://localhost:8080/"
        },
        "id": "T8VOtY63L3J8",
        "outputId": "f8d0749b-33b3-4c82-b1b4-0a1d3419e261"
      },
      "execution_count": 20,
      "outputs": [
        {
          "output_type": "stream",
          "name": "stdout",
          "text": [
            "tf.Tensor(\n",
            "[[ 7. 10.]\n",
            " [11.  3.]], shape=(2, 2), dtype=float32)\n"
          ]
        }
      ]
    },
    {
      "cell_type": "code",
      "source": [
        "multiply_tens = (a * b)\n",
        "print(multiply_tens)"
      ],
      "metadata": {
        "colab": {
          "base_uri": "https://localhost:8080/"
        },
        "id": "k7oQ0CdjM8g8",
        "outputId": "144f16f8-8095-4311-f139-0cd566eaf6fc"
      },
      "execution_count": 21,
      "outputs": [
        {
          "output_type": "stream",
          "name": "stdout",
          "text": [
            "tf.Tensor(\n",
            "[[ 0  3]\n",
            " [ 8 20]], shape=(2, 2), dtype=int32)\n"
          ]
        }
      ]
    },
    {
      "cell_type": "code",
      "source": [
        "multiply_tens = tf.multiply(x, y)\n",
        "print(multiply_tens)"
      ],
      "metadata": {
        "colab": {
          "base_uri": "https://localhost:8080/"
        },
        "id": "gZWJDGpoNQ8c",
        "outputId": "06ac87f3-dcab-4783-864a-6cade4730a55"
      },
      "execution_count": 22,
      "outputs": [
        {
          "output_type": "stream",
          "name": "stdout",
          "text": [
            "tf.Tensor(\n",
            "[[10. 21.]\n",
            " [18.  2.]], shape=(2, 2), dtype=float32)\n"
          ]
        }
      ]
    },
    {
      "cell_type": "code",
      "source": [
        "print(a * b)\n",
        "print(tf.multiply(x, y))"
      ],
      "metadata": {
        "colab": {
          "base_uri": "https://localhost:8080/"
        },
        "id": "0bLfSNjjNg6X",
        "outputId": "c67d20cd-f194-49c0-873e-232b5c446e17"
      },
      "execution_count": 23,
      "outputs": [
        {
          "output_type": "stream",
          "name": "stdout",
          "text": [
            "tf.Tensor(\n",
            "[[ 0  3]\n",
            " [ 8 20]], shape=(2, 2), dtype=int32)\n",
            "tf.Tensor(\n",
            "[[10. 21.]\n",
            " [18.  2.]], shape=(2, 2), dtype=float32)\n"
          ]
        }
      ]
    },
    {
      "cell_type": "code",
      "source": [
        "matmul_tensors = tf.matmul(a, b)\n",
        "print(matmul_tensors)\n",
        "print(\"\\n########################################\\n\")\n",
        "print(tf.matmul(x, y))"
      ],
      "metadata": {
        "colab": {
          "base_uri": "https://localhost:8080/"
        },
        "id": "_Mlcyc3cN_kd",
        "outputId": "b79e05c8-955f-4bf9-a3dc-8faf55156529"
      },
      "execution_count": 24,
      "outputs": [
        {
          "output_type": "stream",
          "name": "stdout",
          "text": [
            "tf.Tensor(\n",
            "[[ 4  5]\n",
            " [20 26]], shape=(2, 2), dtype=int32)\n",
            "\n",
            "########################################\n",
            "\n",
            "tf.Tensor(\n",
            "[[37. 41.]\n",
            " [13. 16.]], shape=(2, 2), dtype=float32)\n"
          ]
        }
      ]
    },
    {
      "cell_type": "code",
      "source": [
        " c = tf.constant([[1,2,3],\n",
        "                  [2,3,4],\n",
        "                  [3,4,5]], dtype = tf.float32)\n",
        " \n",
        " m = tf.constant([[4,5,6],\n",
        "                 [6,7,8],\n",
        "                 [7,8,0]], dtype = tf.float32)\n",
        " \n",
        " print(tf.matmul(c,m))"
      ],
      "metadata": {
        "colab": {
          "base_uri": "https://localhost:8080/"
        },
        "id": "xYKjQyAwO2hj",
        "outputId": "fdd88b47-f06e-41c0-b1c3-77a9c843e82d"
      },
      "execution_count": 25,
      "outputs": [
        {
          "output_type": "stream",
          "name": "stdout",
          "text": [
            "tf.Tensor(\n",
            "[[37. 43. 22.]\n",
            " [54. 63. 36.]\n",
            " [71. 83. 50.]], shape=(3, 3), dtype=float32)\n"
          ]
        }
      ]
    },
    {
      "cell_type": "code",
      "source": [
        "# Finding Maximum\n",
        "print(\"The Max value in the Tenosr object x: \",\n",
        "      tf.reduce_max(x).numpy())\n",
        "\n",
        "print(\"The Max value of a: \",\n",
        "      tf.reduce_max(a))"
      ],
      "metadata": {
        "id": "0Z8HE0vAQpuK",
        "colab": {
          "base_uri": "https://localhost:8080/"
        },
        "outputId": "80859442-0498-42a4-f240-990cb912a170"
      },
      "execution_count": 26,
      "outputs": [
        {
          "output_type": "stream",
          "name": "stdout",
          "text": [
            "The Max value in the Tenosr object x:  5.0\n",
            "The Max value of a:  tf.Tensor(4, shape=(), dtype=int32)\n"
          ]
        }
      ]
    },
    {
      "cell_type": "code",
      "source": [
        "# Finding the Minimum\n",
        "print(\"The Minimum of b: \",\n",
        "      tf.reduce_min(b).numpy())\n",
        "print(b.numpy())"
      ],
      "metadata": {
        "colab": {
          "base_uri": "https://localhost:8080/"
        },
        "id": "sSrAnT_djL_N",
        "outputId": "e5b87efa-df23-4b78-a124-d06ed676b7c8"
      },
      "execution_count": 27,
      "outputs": [
        {
          "output_type": "stream",
          "name": "stdout",
          "text": [
            "The Minimum of b:  2\n",
            "[[2 3]\n",
            " [4 5]]\n"
          ]
        }
      ]
    },
    {
      "cell_type": "code",
      "source": [
        "# Finding the Index position of maximum element\n",
        "print(\"Index position of maximum in y: \",\n",
        "      tf.argmax(y).numpy())\n",
        "print(tf.reduce_max(y).numpy())\n",
        "print(y.numpy())"
      ],
      "metadata": {
        "colab": {
          "base_uri": "https://localhost:8080/"
        },
        "id": "RJ5x9FEzjuB-",
        "outputId": "13ec72f1-73ea-4d75-c0d9-c07607537269"
      },
      "execution_count": 28,
      "outputs": [
        {
          "output_type": "stream",
          "name": "stdout",
          "text": [
            "Index position of maximum in y:  [1 0]\n",
            "9.0\n",
            "[[2. 7.]\n",
            " [9. 2.]]\n"
          ]
        }
      ]
    },
    {
      "cell_type": "code",
      "source": [
        "# Finding the Index position of Minimum element in the Tensor\n",
        "print(\"Maximum in a: \",\n",
        "      tf.reduce_min(a).numpy())\n",
        "\n",
        "print(\"Index position of Minimum in a: \",\n",
        "      tf.argmin(a).numpy())\n",
        "print(a.numpy())"
      ],
      "metadata": {
        "colab": {
          "base_uri": "https://localhost:8080/"
        },
        "id": "DFqvH-bqkjr8",
        "outputId": "3f6bd596-245b-49de-d9cd-360f124834fc"
      },
      "execution_count": 29,
      "outputs": [
        {
          "output_type": "stream",
          "name": "stdout",
          "text": [
            "Maximum in a:  0\n",
            "Index position of Minimum in a:  [0 0]\n",
            "[[0 1]\n",
            " [2 4]]\n"
          ]
        }
      ]
    },
    {
      "cell_type": "code",
      "source": [
        "# Computing the softmax using softmax function\n",
        "print(\"The softmax computation result in x: \",\n",
        "      tf.nn.softmax(x).numpy())"
      ],
      "metadata": {
        "colab": {
          "base_uri": "https://localhost:8080/"
        },
        "id": "P_OhEABdlM3b",
        "outputId": "dac91675-8a64-437e-8e92-e5acd8b9d0ee"
      },
      "execution_count": 30,
      "outputs": [
        {
          "output_type": "stream",
          "name": "stdout",
          "text": [
            "The softmax computation result in x:  [[0.880797   0.11920292]\n",
            " [0.73105854 0.26894143]]\n"
          ]
        }
      ]
    },
    {
      "cell_type": "code",
      "source": [
        "print(\"The softmax computation result in y: \",\n",
        "      tf.nn.softmax(y).numpy())"
      ],
      "metadata": {
        "colab": {
          "base_uri": "https://localhost:8080/"
        },
        "id": "dqRATchkoIlv",
        "outputId": "eb7c6c57-276e-4c59-bbbd-831e8f8cba60"
      },
      "execution_count": 31,
      "outputs": [
        {
          "output_type": "stream",
          "name": "stdout",
          "text": [
            "The softmax computation result in y:  [[6.6928510e-03 9.9330717e-01]\n",
            " [9.9908900e-01 9.1105123e-04]]\n"
          ]
        }
      ]
    },
    {
      "cell_type": "code",
      "source": [
        "print(\"The softmax can't compute in int32 dtype tensors\")\n",
        "print('Example')\n",
        "print(\"softmax in a: \",\n",
        "      tf.nn.softmax(a).numpy())\n",
        "# This will throw an error"
      ],
      "metadata": {
        "id": "KWr0Z3Adoesj"
      },
      "execution_count": 32,
      "outputs": []
    },
    {
      "cell_type": "code",
      "source": [
        "a = tf.constant([[1, 2, 3, 4, 5, 6]])\n",
        "print(\"The shape of a: \", a.shape)"
      ],
      "metadata": {
        "colab": {
          "base_uri": "https://localhost:8080/"
        },
        "id": "MHJAH6W1p76z",
        "outputId": "fa7175b4-171a-493a-b495-45eaa7ae685c"
      },
      "execution_count": 40,
      "outputs": [
        {
          "output_type": "stream",
          "name": "stdout",
          "text": [
            "The shape of a:  (1, 6)\n"
          ]
        }
      ]
    },
    {
      "cell_type": "code",
      "source": [
        "b = tf.reshape(a, [6,1])\n",
        "print(\"The shape of b type a: \", b.shape)\n",
        "print(b.numpy())"
      ],
      "metadata": {
        "colab": {
          "base_uri": "https://localhost:8080/"
        },
        "id": "n-az4_GaqSmW",
        "outputId": "e22db164-f852-4e49-a193-0e824cb5d0be"
      },
      "execution_count": 42,
      "outputs": [
        {
          "output_type": "stream",
          "name": "stdout",
          "text": [
            "The shape of b type a:  (6, 1)\n",
            "[[1]\n",
            " [2]\n",
            " [3]\n",
            " [4]\n",
            " [5]\n",
            " [6]]\n"
          ]
        }
      ]
    },
    {
      "cell_type": "code",
      "source": [
        "c = tf.reshape(a, [3, 2])\n",
        "print(c.shape)\n",
        "print(c.numpy())"
      ],
      "metadata": {
        "colab": {
          "base_uri": "https://localhost:8080/"
        },
        "id": "khs5GC9eBBhs",
        "outputId": "d1a62bc4-e9e2-4ee2-e170-05e1f8069892"
      },
      "execution_count": 44,
      "outputs": [
        {
          "output_type": "stream",
          "name": "stdout",
          "text": [
            "(3, 2)\n",
            "[[1 2]\n",
            " [3 4]\n",
            " [5 6]]\n"
          ]
        }
      ]
    },
    {
      "cell_type": "code",
      "source": [
        "print(\"The shape of the flattend Tensor object: \", tf.reshape(a, [-1]))"
      ],
      "metadata": {
        "colab": {
          "base_uri": "https://localhost:8080/"
        },
        "id": "XKC8h3uoBqKM",
        "outputId": "c9e9b776-eed4-42fc-f4cf-b4d0bfd717a2"
      },
      "execution_count": 45,
      "outputs": [
        {
          "output_type": "stream",
          "name": "stdout",
          "text": [
            "The shape of the flattend Tensor object:  tf.Tensor([1 2 3 4 5 6], shape=(6,), dtype=int32)\n"
          ]
        }
      ]
    },
    {
      "cell_type": "markdown",
      "source": [
        "**Broadcasting**"
      ],
      "metadata": {
        "id": "eFWKvQSiCI8Z"
      }
    },
    {
      "cell_type": "code",
      "source": [
        "m = tf.constant([5])\n",
        "n = tf.constant([[1, 2],\n",
        "                [3, 4]])\n",
        "\n",
        "print(tf.multiply(m, n))"
      ],
      "metadata": {
        "colab": {
          "base_uri": "https://localhost:8080/"
        },
        "id": "BCqr2EGZCMAr",
        "outputId": "06b37438-8a1c-46c4-b0cf-f879923b5e47"
      },
      "execution_count": 47,
      "outputs": [
        {
          "output_type": "stream",
          "name": "stdout",
          "text": [
            "tf.Tensor(\n",
            "[[ 5 10]\n",
            " [15 20]], shape=(2, 2), dtype=int32)\n"
          ]
        }
      ]
    },
    {
      "cell_type": "code",
      "source": [
        "ragged_list = [[1, 2, 3],\n",
        "               [6],\n",
        "               [2, 4, 1, 8, 3, 6],\n",
        "               [3, 2, 9]]\n",
        "            \n",
        "ragged_tensor = tf.ragged.constant(ragged_list)\n",
        "print(ragged_tensor)"
      ],
      "metadata": {
        "colab": {
          "base_uri": "https://localhost:8080/"
        },
        "id": "oOO3fv5zC1HV",
        "outputId": "8e566d08-b143-4732-d91d-78a152fe728b"
      },
      "execution_count": 48,
      "outputs": [
        {
          "output_type": "stream",
          "name": "stdout",
          "text": [
            "<tf.RaggedTensor [[1, 2, 3], [6], [2, 4, 1, 8, 3, 6], [3, 2, 9]]>\n"
          ]
        }
      ]
    },
    {
      "cell_type": "code",
      "source": [
        "string_tensor = tf.constant([[\"hii\", \"sarith\", \"u\"],\n",
        "                             [\"yeah\", \"bithch\", \"y\"]])\n",
        "\n",
        "print(string_tensor)"
      ],
      "metadata": {
        "colab": {
          "base_uri": "https://localhost:8080/"
        },
        "id": "kYtj4i_qDa5l",
        "outputId": "d9ef6f2e-78d0-45a2-e646-314cd69a9a62"
      },
      "execution_count": 49,
      "outputs": [
        {
          "output_type": "stream",
          "name": "stdout",
          "text": [
            "tf.Tensor(\n",
            "[[b'hii' b'sarith' b'u']\n",
            " [b'yeah' b'bithch' b'y']], shape=(2, 3), dtype=string)\n"
          ]
        }
      ]
    },
    {
      "cell_type": "code",
      "source": [
        "sparse_tensor = tf.sparse.SparseTensor(indices=[[0,0], [2,2], [4,4]],\n",
        "                                       values=[23, 56, 32],\n",
        "                                       dense_shape=[5,5])\n",
        "print(tf.sparse.to_dense(sparse_tensor))"
      ],
      "metadata": {
        "colab": {
          "base_uri": "https://localhost:8080/"
        },
        "id": "h49o6fpCEAZ7",
        "outputId": "7d9b7df5-fd63-4106-a7c1-bd1e402167a6"
      },
      "execution_count": 51,
      "outputs": [
        {
          "output_type": "stream",
          "name": "stdout",
          "text": [
            "tf.Tensor(\n",
            "[[23  0  0  0  0]\n",
            " [ 0  0  0  0  0]\n",
            " [ 0  0 56  0  0]\n",
            " [ 0  0  0  0  0]\n",
            " [ 0  0  0  0 32]], shape=(5, 5), dtype=int32)\n"
          ]
        }
      ]
    }
  ]
}
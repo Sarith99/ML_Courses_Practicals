{
  "nbformat": 4,
  "nbformat_minor": 0,
  "metadata": {
    "colab": {
      "name": "Mastering_TensorFlow_“Variables”_in_5_Easy_Steps.ipynb",
      "provenance": [],
      "authorship_tag": "ABX9TyMnsDXwHZ+r0RlakQuib9xc",
      "include_colab_link": true
    },
    "kernelspec": {
      "name": "python3",
      "display_name": "Python 3"
    },
    "language_info": {
      "name": "python"
    },
    "accelerator": "GPU",
    "gpuClass": "standard"
  },
  "cells": [
    {
      "cell_type": "markdown",
      "metadata": {
        "id": "view-in-github",
        "colab_type": "text"
      },
      "source": [
        "<a href=\"https://colab.research.google.com/github/Sarith99/ML_Courses_Practicals/blob/main/Mastering_TensorFlow_%E2%80%9CVariables%E2%80%9D_in_5_Easy_Steps.ipynb\" target=\"_parent\"><img src=\"https://colab.research.google.com/assets/colab-badge.svg\" alt=\"Open In Colab\"/></a>"
      ]
    },
    {
      "cell_type": "code",
      "execution_count": 10,
      "metadata": {
        "id": "mq7oJoOLk8kJ"
      },
      "outputs": [],
      "source": [
        "import tensorflow as tf"
      ]
    },
    {
      "cell_type": "code",
      "source": [
        "a = ([[0.0, 1.0],\n",
        "      [2.0, 3.0]])\n",
        "\n",
        "tens_a = tf.constant(a)\n",
        "print(a)"
      ],
      "metadata": {
        "colab": {
          "base_uri": "https://localhost:8080/"
        },
        "id": "6uuPJpd1pZcX",
        "outputId": "965d2d27-76b6-455d-8ab4-8e5ce722c735"
      },
      "execution_count": 11,
      "outputs": [
        {
          "output_type": "stream",
          "name": "stdout",
          "text": [
            "[[0.0, 1.0], [2.0, 3.0]]\n"
          ]
        }
      ]
    },
    {
      "cell_type": "code",
      "source": [
        "var_a = tf.Variable(tens_a)\n",
        "print(var_a)"
      ],
      "metadata": {
        "colab": {
          "base_uri": "https://localhost:8080/"
        },
        "id": "3q2Rshxtp1OJ",
        "outputId": "01183a7c-0052-4e56-cebf-ed2155ef444e"
      },
      "execution_count": 12,
      "outputs": [
        {
          "output_type": "stream",
          "name": "stdout",
          "text": [
            "<tf.Variable 'Variable:0' shape=(2, 2) dtype=float32, numpy=\n",
            "array([[0., 1.],\n",
            "       [2., 3.]], dtype=float32)>\n"
          ]
        }
      ]
    },
    {
      "cell_type": "code",
      "source": [
        "var_b = tf.Variable(100000000)\n",
        "print(var_b.numpy())\n",
        "print(var_b)"
      ],
      "metadata": {
        "colab": {
          "base_uri": "https://localhost:8080/"
        },
        "id": "gHsrdmjuqMcA",
        "outputId": "27eea1a5-5515-483c-d636-459bffb55f1f"
      },
      "execution_count": 13,
      "outputs": [
        {
          "output_type": "stream",
          "name": "stdout",
          "text": [
            "100000000\n",
            "<tf.Variable 'Variable:0' shape=() dtype=int32, numpy=100000000>\n"
          ]
        }
      ]
    },
    {
      "cell_type": "code",
      "source": [
        "c = [[1, 2, 3],\n",
        "     [3, 4, 5]]\n",
        "var_c = tf.Variable(c)\n",
        "print(var_c)"
      ],
      "metadata": {
        "colab": {
          "base_uri": "https://localhost:8080/"
        },
        "id": "Mr4HDkEBNMR8",
        "outputId": "47009a00-4099-4233-917d-438f6977a99b"
      },
      "execution_count": 14,
      "outputs": [
        {
          "output_type": "stream",
          "name": "stdout",
          "text": [
            "<tf.Variable 'Variable:0' shape=(2, 3) dtype=int32, numpy=\n",
            "array([[1, 2, 3],\n",
            "       [3, 4, 5]], dtype=int32)>\n"
          ]
        }
      ]
    },
    {
      "cell_type": "code",
      "source": [
        "var_d = tf.Variable(\"String Example\")\n",
        "print(var_d)"
      ],
      "metadata": {
        "colab": {
          "base_uri": "https://localhost:8080/"
        },
        "id": "7mkbRYm7Ndru",
        "outputId": "35bef017-bdb7-460a-e8cd-cc9099ea8d8e"
      },
      "execution_count": 15,
      "outputs": [
        {
          "output_type": "stream",
          "name": "stdout",
          "text": [
            "<tf.Variable 'Variable:0' shape=() dtype=string, numpy=b'String Example'>\n"
          ]
        }
      ]
    },
    {
      "cell_type": "code",
      "source": [
        "e = [\"Hii girls\", \n",
        "     \"Yooo\",\n",
        "     \"hrewr\"]\n",
        "    \n",
        "var_e = tf.Variable(e)\n",
        "print(e)"
      ],
      "metadata": {
        "colab": {
          "base_uri": "https://localhost:8080/"
        },
        "id": "YvBKMRSzNnuk",
        "outputId": "3480056b-9253-4895-a014-b61c96c5e9d7"
      },
      "execution_count": 16,
      "outputs": [
        {
          "output_type": "stream",
          "name": "stdout",
          "text": [
            "['Hii girls', 'Yooo', 'hrewr']\n"
          ]
        }
      ]
    },
    {
      "cell_type": "code",
      "source": [
        "a = tf.Variable([[1, 2, 3],\n",
        "                [5, 6, 7]])\n",
        "\n",
        "print(\"The values stored in the Variables: \\n\", a.value())\n",
        "print(\"*****************************************************************************************\")\n",
        "print(\"The values stored in the Variables: \\n\", a.numpy())"
      ],
      "metadata": {
        "colab": {
          "base_uri": "https://localhost:8080/"
        },
        "id": "_ho--DGzOMI2",
        "outputId": "384225de-1285-430f-d922-74851a08176c"
      },
      "execution_count": 17,
      "outputs": [
        {
          "output_type": "stream",
          "name": "stdout",
          "text": [
            "The values stored in the Variables: \n",
            " tf.Tensor(\n",
            "[[1 2 3]\n",
            " [5 6 7]], shape=(2, 3), dtype=int32)\n",
            "*****************************************************************************************\n",
            "The values stored in the Variables: \n",
            " [[1 2 3]\n",
            " [5 6 7]]\n"
          ]
        }
      ]
    },
    {
      "cell_type": "code",
      "source": [
        "a = tf.Variable([[1, 2, 3],\n",
        "                [5, 6, 7]])\n",
        "\n",
        "print(\"The name of the Variable: \", a.name)"
      ],
      "metadata": {
        "colab": {
          "base_uri": "https://localhost:8080/"
        },
        "id": "zg5tbPn8PRM6",
        "outputId": "52705318-d62c-422b-d057-c35af60a7f1a"
      },
      "execution_count": 18,
      "outputs": [
        {
          "output_type": "stream",
          "name": "stdout",
          "text": [
            "The name of the Variable:  Variable:0\n"
          ]
        }
      ]
    },
    {
      "cell_type": "code",
      "source": [
        "print(\"The selected data type for the Variable: \", a.dtype)"
      ],
      "metadata": {
        "colab": {
          "base_uri": "https://localhost:8080/"
        },
        "id": "smdHWsOnw8B_",
        "outputId": "e63108ee-8034-4750-a666-6e43a3d57a38"
      },
      "execution_count": 19,
      "outputs": [
        {
          "output_type": "stream",
          "name": "stdout",
          "text": [
            "The selected data type for the Variable:  <dtype: 'int32'>\n"
          ]
        }
      ]
    },
    {
      "cell_type": "code",
      "source": [
        "a = tf.Variable([[1.0, 2.0],\n",
        "                 [2.0,9.0]])\n",
        "\n",
        "print(\"The shape of Variable: \", a.shape)\n",
        "print(\"The No. of Diamensions: \", tf.rank(a).numpy())\n",
        "print('The No. of Elements in Variable: ', tf.size(a).numpy())"
      ],
      "metadata": {
        "colab": {
          "base_uri": "https://localhost:8080/"
        },
        "id": "Ock8jb-3xL-s",
        "outputId": "6dfe62ec-e2c3-4b46-94b3-b6a2de6666bc"
      },
      "execution_count": 21,
      "outputs": [
        {
          "output_type": "stream",
          "name": "stdout",
          "text": [
            "The shape of Variable:  (2, 2)\n",
            "The No. of Diamensions:  2\n",
            "The No. of Elements in Variable:  4\n"
          ]
        }
      ]
    },
    {
      "cell_type": "markdown",
      "source": [
        "**Operations**"
      ],
      "metadata": {
        "id": "1CgENXyqyczl"
      }
    },
    {
      "cell_type": "code",
      "source": [
        "a = tf.Variable([[4.0, 5.0],\n",
        "                 [6.0, 7.0]])\n",
        "print(\"Answer after adding by 2: \\n\", a+2)\n",
        "print(\"Answer after subtracting by 2: \\n\", a-2)"
      ],
      "metadata": {
        "colab": {
          "base_uri": "https://localhost:8080/"
        },
        "id": "7BNzMnyOyfHe",
        "outputId": "5078c401-6be4-42bc-d200-7c5d2af6b4af"
      },
      "execution_count": 23,
      "outputs": [
        {
          "output_type": "stream",
          "name": "stdout",
          "text": [
            "Answer after adding by 2: \n",
            " tf.Tensor(\n",
            "[[6. 7.]\n",
            " [8. 9.]], shape=(2, 2), dtype=float32)\n",
            "Answer after subtracting by 2: \n",
            " tf.Tensor(\n",
            "[[2. 3.]\n",
            " [4. 5.]], shape=(2, 2), dtype=float32)\n"
          ]
        }
      ]
    },
    {
      "cell_type": "code",
      "source": [
        "a = tf.Variable([[1.0, 2.0],\n",
        "                 [1.0, 2.0]])\n",
        "print(\"Multiplication by 2: \\n\", a*2)\n",
        "print(\"Division by 2: \\n\", a/2)"
      ],
      "metadata": {
        "colab": {
          "base_uri": "https://localhost:8080/"
        },
        "id": "zxK2Ug4ozPSM",
        "outputId": "353e658a-9629-4a16-fcd8-765738a7b6bd"
      },
      "execution_count": 24,
      "outputs": [
        {
          "output_type": "stream",
          "name": "stdout",
          "text": [
            "Multiplication by 2: \n",
            " tf.Tensor(\n",
            "[[2. 4.]\n",
            " [2. 4.]], shape=(2, 2), dtype=float32)\n",
            "Division by 2: \n",
            " tf.Tensor(\n",
            "[[0.5 1. ]\n",
            " [0.5 1. ]], shape=(2, 2), dtype=float32)\n"
          ]
        }
      ]
    },
    {
      "cell_type": "markdown",
      "source": [
        "**Matmul** and **Modulo** Operations: \n",
        "\n",
        "Finally, you can also do `matmul` and `modulo` operations with `@` and `%` signs:"
      ],
      "metadata": {
        "id": "5EJ7JsgVztT4"
      }
    },
    {
      "cell_type": "code",
      "source": [
        "a = tf.Variable([[1, 2],\n",
        "                  [3, 4]])\n",
        "\n",
        "print(\"Matmul with itself: \\n\", a@a)\n",
        "print(\"Modulo by 2: \\n\", a%2)"
      ],
      "metadata": {
        "colab": {
          "base_uri": "https://localhost:8080/"
        },
        "id": "V6I0px52zre1",
        "outputId": "921cde4a-1f16-4830-dcd1-22f533e5fb98"
      },
      "execution_count": 27,
      "outputs": [
        {
          "output_type": "stream",
          "name": "stdout",
          "text": [
            "Matmul with itself: \n",
            " tf.Tensor(\n",
            "[[ 7 10]\n",
            " [15 22]], shape=(2, 2), dtype=int32)\n",
            "Modulo by 2: \n",
            " tf.Tensor(\n",
            "[[1 0]\n",
            " [1 0]], shape=(2, 2), dtype=int32)\n"
          ]
        }
      ]
    },
    {
      "cell_type": "code",
      "source": [
        "a = tf.Variable([[1, 2],\n",
        "                [3, 4]])\n",
        "\n",
        "a.assign([[6, 7],\n",
        "          [4, 2]])\n",
        "print(\"a: \\n\", a)"
      ],
      "metadata": {
        "colab": {
          "base_uri": "https://localhost:8080/"
        },
        "id": "2RV4B9P_0z1W",
        "outputId": "119f5f71-4738-4de2-a63c-b93f1951fc04"
      },
      "execution_count": 29,
      "outputs": [
        {
          "output_type": "stream",
          "name": "stdout",
          "text": [
            "a: \n",
            " <tf.Variable 'Variable:0' shape=(2, 2) dtype=int32, numpy=\n",
            "array([[6, 7],\n",
            "       [4, 2]], dtype=int32)>\n"
          ]
        }
      ]
    },
    {
      "cell_type": "code",
      "source": [
        "print(\"1st lavel: \", a[0].numpy())\n",
        "print(\"2nd level: \", a[1].numpy())\n",
        "print(\"last level: \", a[-1].numpy())"
      ],
      "metadata": {
        "colab": {
          "base_uri": "https://localhost:8080/"
        },
        "id": "R09wt8Q_1YY2",
        "outputId": "ae12cfb2-b6d7-4b10-ca7e-27b61fcceac4"
      },
      "execution_count": 30,
      "outputs": [
        {
          "output_type": "stream",
          "name": "stdout",
          "text": [
            "1st Element lavel:  [6 7]\n",
            "2nd Element level:  [4 2]\n",
            "last Element level:  [4 2]\n"
          ]
        }
      ]
    },
    {
      "cell_type": "code",
      "source": [
        "print(\"1st Element in 2nd level: \", a[1, 0].numpy())\n",
        "print(\"last element in Last level: \", a[-1,-1].numpy())"
      ],
      "metadata": {
        "colab": {
          "base_uri": "https://localhost:8080/"
        },
        "id": "hsFpKgzg19sk",
        "outputId": "a1abb5f5-dbab-4904-c86d-13bfa88f0e13"
      },
      "execution_count": 34,
      "outputs": [
        {
          "output_type": "stream",
          "name": "stdout",
          "text": [
            "1st Element in 2nd level:  4\n",
            "last element in Last level:  2\n"
          ]
        }
      ]
    },
    {
      "cell_type": "code",
      "source": [
        "b = tf.Variable([[4, 5],\n",
        "                 [3, 9]])\n",
        "c = tf.Variable([2, 6])\n",
        "\n",
        "print(b*c)"
      ],
      "metadata": {
        "colab": {
          "base_uri": "https://localhost:8080/"
        },
        "id": "GIjp7Tfe2i3D",
        "outputId": "4d605f5f-a806-4272-e2f4-f82cf603ac26"
      },
      "execution_count": 35,
      "outputs": [
        {
          "output_type": "stream",
          "name": "stdout",
          "text": [
            "tf.Tensor(\n",
            "[[ 8 30]\n",
            " [ 6 54]], shape=(2, 2), dtype=int32)\n"
          ]
        }
      ]
    },
    {
      "cell_type": "code",
      "source": [
        "x = tf.Variable([1, 2],\n",
        "                [2, 1])\n",
        "\n",
        "print(tf.reshape(a, (4,1)))\n",
        "print(\"$$$$$$$$$$$$$$$$$$$$$$$$$$\")\n",
        "print(tf.reshape(a, (1,4)))"
      ],
      "metadata": {
        "colab": {
          "base_uri": "https://localhost:8080/"
        },
        "id": "L2JuLrrq21hD",
        "outputId": "b68aaa49-8916-4562-98ed-a5bc70963752"
      },
      "execution_count": 38,
      "outputs": [
        {
          "output_type": "stream",
          "name": "stdout",
          "text": [
            "tf.Tensor(\n",
            "[[6]\n",
            " [7]\n",
            " [4]\n",
            " [2]], shape=(4, 1), dtype=int32)\n",
            "$$$$$$$$$$$$$$$$$$$$$$$$$$\n",
            "tf.Tensor([[6 7 4 2]], shape=(1, 4), dtype=int32)\n"
          ]
        }
      ]
    },
    {
      "cell_type": "code",
      "source": [
        "a = tf.Variable([[1, 2], [2, 3]])\n",
        "\n",
        "print(\"The device which processes the Variable: \\n\", a.device)"
      ],
      "metadata": {
        "colab": {
          "base_uri": "https://localhost:8080/"
        },
        "id": "gylOwByK3bcr",
        "outputId": "025a0c2f-c349-4c39-a414-c0c308ca0a9e"
      },
      "execution_count": 39,
      "outputs": [
        {
          "output_type": "stream",
          "name": "stdout",
          "text": [
            "The device which processes the Variable: \n",
            " /job:localhost/replica:0/task:0/device:CPU:0\n"
          ]
        }
      ]
    },
    {
      "cell_type": "code",
      "source": [
        "with tf.device('GPU:0'):\n",
        "  k = a * b\n",
        "  print(\"The cevice processes the claculation: \\n\", k.device)\n",
        "  print(\"K: \\n\",k)"
      ],
      "metadata": {
        "colab": {
          "base_uri": "https://localhost:8080/"
        },
        "id": "IU-DuvH-34-E",
        "outputId": "da4057ac-2bd9-4fbb-c7b2-1f8f03a87a4f"
      },
      "execution_count": 41,
      "outputs": [
        {
          "output_type": "stream",
          "name": "stdout",
          "text": [
            "The cevice processes the claculation: \n",
            " /job:localhost/replica:0/task:0/device:GPU:0\n",
            "K: \n",
            " tf.Tensor(\n",
            "[[ 4 10]\n",
            " [ 6 27]], shape=(2, 2), dtype=int32)\n"
          ]
        }
      ]
    }
  ]
}